{
 "cells": [
  {
   "cell_type": "code",
   "execution_count": 32,
   "id": "61c9eee2",
   "metadata": {},
   "outputs": [],
   "source": [
    "import pandas as pd\n",
    "import os, shutil\n",
    "from tqdm import tqdm"
   ]
  },
  {
   "cell_type": "code",
   "execution_count": 22,
   "id": "ea71fba1",
   "metadata": {},
   "outputs": [],
   "source": [
    "df = pd.read_csv('../results/summary_csvs/enformer/context_swap_test.csv')\n"
   ]
  },
  {
   "cell_type": "code",
   "execution_count": 20,
   "id": "50e4c613",
   "metadata": {},
   "outputs": [],
   "source": [
    "for i, row in df.iterrows():\n",
    "    if not os.path.isfile(f\"src_{row['source']}_dest_{row['target']}.pickle\"):\n",
    "        print('s')\n",
    "        break"
   ]
  },
  {
   "cell_type": "code",
   "execution_count": 7,
   "id": "d0d7877b",
   "metadata": {},
   "outputs": [],
   "source": [
    "minimal_list = df['seq_id'].values"
   ]
  },
  {
   "cell_type": "code",
   "execution_count": 30,
   "id": "7931198e",
   "metadata": {},
   "outputs": [],
   "source": [
    "minimal_list = [f\"src_{row['source']}_dest_{row['target']}.pickle\" for _, row in df.iterrows()]"
   ]
  },
  {
   "cell_type": "code",
   "execution_count": 38,
   "id": "5e7e7237",
   "metadata": {},
   "outputs": [
    {
     "name": "stderr",
     "output_type": "stream",
     "text": [
      "100%|██████████████████████████████████████████████████████████████| 411107/411107 [29:05<00:00, 235.46it/s]\n"
     ]
    }
   ],
   "source": [
    "# for cell_line in os.listdir('../results/context_swap_test/enformer/'):\n",
    "cell_line = 'K562'\n",
    "for file in tqdm(os.listdir(f'../results/context_swap_test/enformer/{cell_line}/')):\n",
    "    \n",
    "    if file not in minimal_list:        \n",
    "        shutil.move(f'../results/context_swap_test/enformer/{cell_line}/{file}',\n",
    "                    f'/home/toneyan/creme-nn_bad_repo/results/context_swap_test/enformer/{cell_line}/{file}')"
   ]
  },
  {
   "cell_type": "code",
   "execution_count": 36,
   "id": "6bb30742",
   "metadata": {},
   "outputs": [
    {
     "data": {
      "text/plain": [
       "'../results/context_swap_test/enformer/K562/src_ATP1B1_chr1_169106682_+_dest_AGBL3_chr7_134986507_+.pickle'"
      ]
     },
     "execution_count": 36,
     "metadata": {},
     "output_type": "execute_result"
    }
   ],
   "source": [
    "f\"../results/context_swap_test/enformer/{cell_line}/{file}\""
   ]
  },
  {
   "cell_type": "code",
   "execution_count": 37,
   "id": "bc3bac88",
   "metadata": {},
   "outputs": [
    {
     "data": {
      "text/plain": [
       "'/home/toneyan/creme-nn_bad_repo/results/context_swap_test/enformer/K562/src_ATP1B1_chr1_169106682_+_dest_AGBL3_chr7_134986507_+.pickle'"
      ]
     },
     "execution_count": 37,
     "metadata": {},
     "output_type": "execute_result"
    }
   ],
   "source": [
    "f'/home/toneyan/creme-nn_bad_repo/results/context_swap_test/enformer/{cell_line}/{file}'"
   ]
  },
  {
   "cell_type": "code",
   "execution_count": null,
   "id": "9d5d1c9f",
   "metadata": {},
   "outputs": [],
   "source": []
  }
 ],
 "metadata": {
  "kernelspec": {
   "display_name": "Python 3",
   "language": "python",
   "name": "python3"
  },
  "language_info": {
   "codemirror_mode": {
    "name": "ipython",
    "version": 3
   },
   "file_extension": ".py",
   "mimetype": "text/x-python",
   "name": "python",
   "nbconvert_exporter": "python",
   "pygments_lexer": "ipython3",
   "version": "3.8.5"
  }
 },
 "nbformat": 4,
 "nbformat_minor": 5
}
